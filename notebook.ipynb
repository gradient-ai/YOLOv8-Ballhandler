{
 "cells": [
  {
   "cell_type": "markdown",
   "source": [
    "# Setup"
   ],
   "metadata": {}
  },
  {
   "cell_type": "code",
   "execution_count": null,
   "source": [
    "!pip install ultralytics"
   ],
   "outputs": [],
   "metadata": {
    "execution": {
     "iopub.execute_input": "2023-02-01T01:34:59.181520Z",
     "iopub.status.busy": "2023-02-01T01:34:59.180940Z",
     "iopub.status.idle": "2023-02-01T01:35:02.187127Z",
     "shell.execute_reply": "2023-02-01T01:35:02.186343Z",
     "shell.execute_reply.started": "2023-02-01T01:34:59.181461Z"
    }
   }
  },
  {
   "cell_type": "markdown",
   "source": [
    "# Get dataset"
   ],
   "metadata": {}
  },
  {
   "cell_type": "code",
   "execution_count": null,
   "source": [
    "!pip install roboflow\n",
    "\n",
    "from roboflow import Roboflow\n",
    "rf = Roboflow(api_key=\"\")\n",
    "project = rf.workspace(\"james-skelton\").project(\"ballhandler-basketball\")\n",
    "dataset = project.version(11).download(\"yolov8\")\n",
    "!mkdir datasets\n",
    "!mv ballhandler-basketball-11/ datasets/"
   ],
   "outputs": [],
   "metadata": {
    "execution": {
     "iopub.execute_input": "2023-02-01T01:38:54.635463Z",
     "iopub.status.busy": "2023-02-01T01:38:54.635156Z",
     "iopub.status.idle": "2023-02-01T01:38:55.477263Z",
     "shell.execute_reply": "2023-02-01T01:38:55.476477Z",
     "shell.execute_reply.started": "2023-02-01T01:38:54.635441Z"
    }
   }
  },
  {
   "cell_type": "markdown",
   "source": [
    "# Train with YOLOv8"
   ],
   "metadata": {}
  },
  {
   "cell_type": "code",
   "execution_count": null,
   "source": [
    "from ultralytics import YOLO\n",
    "\n",
    "# Load a model\n",
    "model = YOLO(\"yolov8n.yaml\")  # build a new model from scratch\n",
    "model = YOLO(\"yolov8n.pt\")  # load a pretrained model (recommended for training)\n",
    "\n",
    "# Use the model\n",
    "results = model.train(data=\"datasets/ballhandler-basketball-11/data.yaml\", epochs=10)  # train the model\n",
    "results = model.val()  # evaluate model performance on the validation set\n"
   ],
   "outputs": [],
   "metadata": {
    "execution": {
     "iopub.execute_input": "2023-02-01T01:49:28.201215Z",
     "iopub.status.busy": "2023-02-01T01:49:28.200928Z",
     "iopub.status.idle": "2023-02-01T01:51:46.402848Z",
     "shell.execute_reply": "2023-02-01T01:51:46.402286Z",
     "shell.execute_reply.started": "2023-02-01T01:49:28.201161Z"
    }
   }
  },
  {
   "cell_type": "markdown",
   "source": [
    "# Test the model on our sample"
   ],
   "metadata": {}
  },
  {
   "cell_type": "code",
   "execution_count": null,
   "source": [
    "from ultralytics import YOLO\n",
    "from PIL import Image\n",
    "import cv2\n",
    "\n",
    "# from PIL\n",
    "im1 = Image.open(\"../datasets/samp.jpeg\")\n",
    "results = model.predict(source=im1, save=True)  # save plotted images\n",
    "print(results)\n",
    "display(Image.open('/notebooks/YOLOv8-Ballhandler/runs/detect/predict/image0.jpg'))"
   ],
   "outputs": [],
   "metadata": {
    "execution": {
     "iopub.execute_input": "2023-02-01T02:14:14.726772Z",
     "iopub.status.busy": "2023-02-01T02:14:14.726496Z",
     "iopub.status.idle": "2023-02-01T02:14:15.274468Z",
     "shell.execute_reply": "2023-02-01T02:14:15.273972Z",
     "shell.execute_reply.started": "2023-02-01T02:14:14.726753Z"
    }
   }
  }
 ],
 "metadata": {
  "kernelspec": {
   "display_name": "Python 3 (ipykernel)",
   "language": "python",
   "name": "python3"
  },
  "language_info": {
   "codemirror_mode": {
    "name": "ipython",
    "version": 3
   },
   "file_extension": ".py",
   "mimetype": "text/x-python",
   "name": "python",
   "nbconvert_exporter": "python",
   "pygments_lexer": "ipython3",
   "version": "3.9.13"
  }
 },
 "nbformat": 4,
 "nbformat_minor": 4
}